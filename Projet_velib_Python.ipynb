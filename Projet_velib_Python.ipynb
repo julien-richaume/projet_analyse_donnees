{
 "cells": [
  {
   "cell_type": "markdown",
   "id": "ada79062",
   "metadata": {},
   "source": [
    "# Projet analyse des données Vélib"
   ]
  },
  {
   "cell_type": "markdown",
   "id": "5ec27bbc",
   "metadata": {},
   "source": [
    "On importe nos librairies Python (Pandas, numpy, matplotlib ...), nous permettant d'étudier notre data set."
   ]
  },
  {
   "cell_type": "code",
   "execution_count": 1,
   "id": "5019c5ed",
   "metadata": {},
   "outputs": [],
   "source": [
    "import pandas as pd\n",
    "import numpy as np\n",
    "import random as rd\n",
    "import matplotlib.pyplot as plt\n",
    "import seaborn as sns\n",
    "sns.set_style('darkgrid')\n",
    "import csv \n",
    "%matplotlib inline"
   ]
  },
  {
   "cell_type": "markdown",
   "id": "e44f8aeb",
   "metadata": {},
   "source": [
    "Chargement des données loading et coord. Loading nous informe sur l'état de chargement de chaque station en fonction de l'heure. \n",
    "Coord nous donne les coordonnées et nom de chaque station de vélib de Paris."
   ]
  },
  {
   "cell_type": "code",
   "execution_count": 2,
   "id": "792454b1",
   "metadata": {},
   "outputs": [
    {
     "data": {
      "text/html": [
       "<div>\n",
       "<style scoped>\n",
       "    .dataframe tbody tr th:only-of-type {\n",
       "        vertical-align: middle;\n",
       "    }\n",
       "\n",
       "    .dataframe tbody tr th {\n",
       "        vertical-align: top;\n",
       "    }\n",
       "\n",
       "    .dataframe thead th {\n",
       "        text-align: right;\n",
       "    }\n",
       "</style>\n",
       "<table border=\"1\" class=\"dataframe\">\n",
       "  <thead>\n",
       "    <tr style=\"text-align: right;\">\n",
       "      <th></th>\n",
       "      <th>Lun-00</th>\n",
       "      <th>Lun-01</th>\n",
       "      <th>Lun-02</th>\n",
       "      <th>Lun-03</th>\n",
       "      <th>Lun-04</th>\n",
       "      <th>Lun-05</th>\n",
       "      <th>Lun-06</th>\n",
       "      <th>Lun-07</th>\n",
       "      <th>Lun-08</th>\n",
       "      <th>Lun-09</th>\n",
       "      <th>...</th>\n",
       "      <th>Dim-14</th>\n",
       "      <th>Dim-15</th>\n",
       "      <th>Dim-16</th>\n",
       "      <th>Dim-17</th>\n",
       "      <th>Dim-18</th>\n",
       "      <th>Dim-19</th>\n",
       "      <th>Dim-20</th>\n",
       "      <th>Dim-21</th>\n",
       "      <th>Dim-22</th>\n",
       "      <th>Dim-23</th>\n",
       "    </tr>\n",
       "  </thead>\n",
       "  <tbody>\n",
       "    <tr>\n",
       "      <th>1</th>\n",
       "      <td>0.038462</td>\n",
       "      <td>0.038462</td>\n",
       "      <td>0.076923</td>\n",
       "      <td>0.038462</td>\n",
       "      <td>0.038462</td>\n",
       "      <td>0.038462</td>\n",
       "      <td>0.038462</td>\n",
       "      <td>0.038462</td>\n",
       "      <td>0.107143</td>\n",
       "      <td>0.000000</td>\n",
       "      <td>...</td>\n",
       "      <td>0.296296</td>\n",
       "      <td>0.111111</td>\n",
       "      <td>0.111111</td>\n",
       "      <td>0.148148</td>\n",
       "      <td>0.307692</td>\n",
       "      <td>0.076923</td>\n",
       "      <td>0.115385</td>\n",
       "      <td>0.076923</td>\n",
       "      <td>0.153846</td>\n",
       "      <td>0.153846</td>\n",
       "    </tr>\n",
       "    <tr>\n",
       "      <th>2</th>\n",
       "      <td>0.478261</td>\n",
       "      <td>0.478261</td>\n",
       "      <td>0.478261</td>\n",
       "      <td>0.434783</td>\n",
       "      <td>0.434783</td>\n",
       "      <td>0.434783</td>\n",
       "      <td>0.434783</td>\n",
       "      <td>0.434783</td>\n",
       "      <td>0.260870</td>\n",
       "      <td>0.043478</td>\n",
       "      <td>...</td>\n",
       "      <td>0.043478</td>\n",
       "      <td>0.000000</td>\n",
       "      <td>0.217391</td>\n",
       "      <td>0.130435</td>\n",
       "      <td>0.045455</td>\n",
       "      <td>0.173913</td>\n",
       "      <td>0.173913</td>\n",
       "      <td>0.173913</td>\n",
       "      <td>0.260870</td>\n",
       "      <td>0.391304</td>\n",
       "    </tr>\n",
       "    <tr>\n",
       "      <th>3</th>\n",
       "      <td>0.218182</td>\n",
       "      <td>0.145455</td>\n",
       "      <td>0.127273</td>\n",
       "      <td>0.109091</td>\n",
       "      <td>0.109091</td>\n",
       "      <td>0.109091</td>\n",
       "      <td>0.090909</td>\n",
       "      <td>0.090909</td>\n",
       "      <td>0.054545</td>\n",
       "      <td>0.109091</td>\n",
       "      <td>...</td>\n",
       "      <td>0.259259</td>\n",
       "      <td>0.259259</td>\n",
       "      <td>0.203704</td>\n",
       "      <td>0.129630</td>\n",
       "      <td>0.148148</td>\n",
       "      <td>0.296296</td>\n",
       "      <td>0.314815</td>\n",
       "      <td>0.370370</td>\n",
       "      <td>0.370370</td>\n",
       "      <td>0.407407</td>\n",
       "    </tr>\n",
       "    <tr>\n",
       "      <th>4</th>\n",
       "      <td>0.952381</td>\n",
       "      <td>0.952381</td>\n",
       "      <td>0.952381</td>\n",
       "      <td>0.952381</td>\n",
       "      <td>0.952381</td>\n",
       "      <td>0.952381</td>\n",
       "      <td>0.952381</td>\n",
       "      <td>1.000000</td>\n",
       "      <td>1.000000</td>\n",
       "      <td>1.000000</td>\n",
       "      <td>...</td>\n",
       "      <td>1.000000</td>\n",
       "      <td>1.000000</td>\n",
       "      <td>0.904762</td>\n",
       "      <td>0.857143</td>\n",
       "      <td>0.857143</td>\n",
       "      <td>0.857143</td>\n",
       "      <td>0.761905</td>\n",
       "      <td>0.761905</td>\n",
       "      <td>0.761905</td>\n",
       "      <td>0.761905</td>\n",
       "    </tr>\n",
       "    <tr>\n",
       "      <th>5</th>\n",
       "      <td>0.927536</td>\n",
       "      <td>0.811594</td>\n",
       "      <td>0.739130</td>\n",
       "      <td>0.724638</td>\n",
       "      <td>0.724638</td>\n",
       "      <td>0.724638</td>\n",
       "      <td>0.724638</td>\n",
       "      <td>0.724638</td>\n",
       "      <td>0.753623</td>\n",
       "      <td>0.971014</td>\n",
       "      <td>...</td>\n",
       "      <td>0.227273</td>\n",
       "      <td>0.454545</td>\n",
       "      <td>0.590909</td>\n",
       "      <td>0.833333</td>\n",
       "      <td>1.000000</td>\n",
       "      <td>0.818182</td>\n",
       "      <td>0.636364</td>\n",
       "      <td>0.712121</td>\n",
       "      <td>0.621212</td>\n",
       "      <td>0.575758</td>\n",
       "    </tr>\n",
       "  </tbody>\n",
       "</table>\n",
       "<p>5 rows × 168 columns</p>\n",
       "</div>"
      ],
      "text/plain": [
       "     Lun-00    Lun-01    Lun-02    Lun-03    Lun-04    Lun-05    Lun-06  \\\n",
       "1  0.038462  0.038462  0.076923  0.038462  0.038462  0.038462  0.038462   \n",
       "2  0.478261  0.478261  0.478261  0.434783  0.434783  0.434783  0.434783   \n",
       "3  0.218182  0.145455  0.127273  0.109091  0.109091  0.109091  0.090909   \n",
       "4  0.952381  0.952381  0.952381  0.952381  0.952381  0.952381  0.952381   \n",
       "5  0.927536  0.811594  0.739130  0.724638  0.724638  0.724638  0.724638   \n",
       "\n",
       "     Lun-07    Lun-08    Lun-09  ...    Dim-14    Dim-15    Dim-16    Dim-17  \\\n",
       "1  0.038462  0.107143  0.000000  ...  0.296296  0.111111  0.111111  0.148148   \n",
       "2  0.434783  0.260870  0.043478  ...  0.043478  0.000000  0.217391  0.130435   \n",
       "3  0.090909  0.054545  0.109091  ...  0.259259  0.259259  0.203704  0.129630   \n",
       "4  1.000000  1.000000  1.000000  ...  1.000000  1.000000  0.904762  0.857143   \n",
       "5  0.724638  0.753623  0.971014  ...  0.227273  0.454545  0.590909  0.833333   \n",
       "\n",
       "     Dim-18    Dim-19    Dim-20    Dim-21    Dim-22    Dim-23  \n",
       "1  0.307692  0.076923  0.115385  0.076923  0.153846  0.153846  \n",
       "2  0.045455  0.173913  0.173913  0.173913  0.260870  0.391304  \n",
       "3  0.148148  0.296296  0.314815  0.370370  0.370370  0.407407  \n",
       "4  0.857143  0.857143  0.761905  0.761905  0.761905  0.761905  \n",
       "5  1.000000  0.818182  0.636364  0.712121  0.621212  0.575758  \n",
       "\n",
       "[5 rows x 168 columns]"
      ]
     },
     "execution_count": 2,
     "metadata": {},
     "output_type": "execute_result"
    }
   ],
   "source": [
    "path    = 'data/'  # If data in 'data' directory\n",
    "loading = pd.read_csv(path + 'velibLoading.csv', sep = \" \")\n",
    "loading.head()\n",
    "#loading ccontient en colonne les heures et en lignes les stations"
   ]
  },
  {
   "cell_type": "code",
   "execution_count": 4,
   "id": "1a131a0a",
   "metadata": {},
   "outputs": [
    {
     "data": {
      "text/html": [
       "<div>\n",
       "<style scoped>\n",
       "    .dataframe tbody tr th:only-of-type {\n",
       "        vertical-align: middle;\n",
       "    }\n",
       "\n",
       "    .dataframe tbody tr th {\n",
       "        vertical-align: top;\n",
       "    }\n",
       "\n",
       "    .dataframe thead th {\n",
       "        text-align: right;\n",
       "    }\n",
       "</style>\n",
       "<table border=\"1\" class=\"dataframe\">\n",
       "  <thead>\n",
       "    <tr style=\"text-align: right;\">\n",
       "      <th></th>\n",
       "      <th>longitude \"latitude\" \"bonus\" \"names\"</th>\n",
       "    </tr>\n",
       "  </thead>\n",
       "  <tbody>\n",
       "    <tr>\n",
       "      <th>0</th>\n",
       "      <td>1 2.37738886313363 48.8863000510864 0 \" EURYAL...</td>\n",
       "    </tr>\n",
       "    <tr>\n",
       "      <th>1</th>\n",
       "      <td>2 2.3175909298999 48.890020496141 0 \" LEMERCIER\"</td>\n",
       "    </tr>\n",
       "    <tr>\n",
       "      <th>2</th>\n",
       "      <td>3 2.33044682027725 48.8502970102176 0 \" MEZIER...</td>\n",
       "    </tr>\n",
       "    <tr>\n",
       "      <th>3</th>\n",
       "      <td>4 2.27139647246143 48.8337338301773 0 \" FARMAN\"</td>\n",
       "    </tr>\n",
       "    <tr>\n",
       "      <th>4</th>\n",
       "      <td>5 2.36689679377372 48.8458869463868 0 \" QUAI D...</td>\n",
       "    </tr>\n",
       "  </tbody>\n",
       "</table>\n",
       "</div>"
      ],
      "text/plain": [
       "                longitude \"latitude\" \"bonus\" \"names\"\n",
       "0  1 2.37738886313363 48.8863000510864 0 \" EURYAL...\n",
       "1   2 2.3175909298999 48.890020496141 0 \" LEMERCIER\"\n",
       "2  3 2.33044682027725 48.8502970102176 0 \" MEZIER...\n",
       "3    4 2.27139647246143 48.8337338301773 0 \" FARMAN\"\n",
       "4  5 2.36689679377372 48.8458869463868 0 \" QUAI D..."
      ]
     },
     "execution_count": 4,
     "metadata": {},
     "output_type": "execute_result"
    }
   ],
   "source": [
    "coord = pd.read_csv(\"data/velibCoord.csv\")\n",
    "coord.head()"
   ]
  },
  {
   "cell_type": "markdown",
   "id": "52b22b71",
   "metadata": {},
   "source": [
    "On vérifie qu'on n'ait pas de données manquantes\n"
   ]
  },
  {
   "cell_type": "code",
   "execution_count": 6,
   "id": "abf4ea5a",
   "metadata": {},
   "outputs": [
    {
     "data": {
      "text/plain": [
       "0"
      ]
     },
     "execution_count": 6,
     "metadata": {},
     "output_type": "execute_result"
    }
   ],
   "source": [
    "loading.isnull().sum().sum()"
   ]
  },
  {
   "cell_type": "code",
   "execution_count": 7,
   "id": "11993095",
   "metadata": {},
   "outputs": [
    {
     "data": {
      "text/plain": [
       "0"
      ]
     },
     "execution_count": 7,
     "metadata": {},
     "output_type": "execute_result"
    }
   ],
   "source": [
    "coord.isna().sum().sum()"
   ]
  },
  {
   "cell_type": "code",
   "execution_count": null,
   "id": "c3b6be22",
   "metadata": {},
   "outputs": [],
   "source": []
  }
 ],
 "metadata": {
  "kernelspec": {
   "display_name": "Python 3 (ipykernel)",
   "language": "python",
   "name": "python3"
  },
  "language_info": {
   "codemirror_mode": {
    "name": "ipython",
    "version": 3
   },
   "file_extension": ".py",
   "mimetype": "text/x-python",
   "name": "python",
   "nbconvert_exporter": "python",
   "pygments_lexer": "ipython3",
   "version": "3.11.3"
  }
 },
 "nbformat": 4,
 "nbformat_minor": 5
}
